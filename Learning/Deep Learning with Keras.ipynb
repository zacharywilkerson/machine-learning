{
 "cells": [
  {
   "cell_type": "markdown",
   "id": "888ce15b",
   "metadata": {},
   "source": [
    "# Deep Learning with Keras"
   ]
  },
  {
   "cell_type": "markdown",
   "id": "b27ebc85",
   "metadata": {},
   "source": [
    "___"
   ]
  },
  {
   "cell_type": "markdown",
   "id": "6624f8a4",
   "metadata": {},
   "source": [
    "<img src=\"https://keras.io/img/logo.png\" alt=\"Keras\" width=\"500\"/>"
   ]
  },
  {
   "cell_type": "markdown",
   "id": "d885a4c5",
   "metadata": {},
   "source": [
    "> ## Notes:\n",
    "> We can think of the **Keras model's life-cycle** in five steps:\n",
    "> 1. [Defining](#Defining-the-Network)\n",
    "> 2. [Compiling](#Compiling-the-Network)\n",
    "> 3. [Training/Fitting](#Training-the-Network)\n",
    "> 4. [Testing/Evaluating](#Testing-the-Network)\n",
    "> 5. [Predicting](#Predicting-with-the-Network)\n",
    ">\n",
    "> In this notebook, we will take a look at each of these steps in a bit more detail using the `Sequential` class. \n",
    ">\n",
    "> We will also look at the Keras **[Functional API](#Functional-API)**, which gives us more flexibility in creating our models. \n",
    "> \n",
    "> Finally, we use Keras to create the following **standard neural network models**:\n",
    "> - [Multilayer Perceptron (MLP)](#Multilayer_Perceptron_(MLP))\n",
    "> - [Convolutional Neural Network (CNN)](#Convolutional-Neural-Network-(CNN))\n",
    "> - [Recurrent Neural Network (RNN)](#Recurrent-Neural-Network-(RNN))"
   ]
  },
  {
   "cell_type": "markdown",
   "id": "04d5bf2a",
   "metadata": {},
   "source": [
    "___"
   ]
  },
  {
   "cell_type": "markdown",
   "id": "0844fd9e",
   "metadata": {},
   "source": [
    "## Defining the Network"
   ]
  },
  {
   "cell_type": "markdown",
   "id": "db086d36",
   "metadata": {},
   "source": [
    "In Keras, **neural networks are defined as a sequence of layers**, and the container for such layers is the `Sequential` class. "
   ]
  },
  {
   "cell_type": "code",
   "execution_count": 2,
   "id": "a3d9fd2b",
   "metadata": {},
   "outputs": [],
   "source": [
    "from tensorflow.keras.models import Sequential"
   ]
  },
  {
   "cell_type": "markdown",
   "id": "bddb9c3d",
   "metadata": {},
   "source": [
    "A **layer** can be created using `Dense`, which takes as input the number of neurons desired in that layer. "
   ]
  },
  {
   "cell_type": "code",
   "execution_count": 3,
   "id": "d4b766e7",
   "metadata": {},
   "outputs": [],
   "source": [
    "from tensorflow.keras.layers import Dense"
   ]
  },
  {
   "cell_type": "markdown",
   "id": "48b10891",
   "metadata": {},
   "source": [
    "A layer can be added to the network by using the `add` method with the `Dense` layer created.\n",
    "\n",
    "Let's create an instance of the `Sequential` class, then create and add one layer with two neurons to the network. "
   ]
  },
  {
   "cell_type": "code",
   "execution_count": 4,
   "id": "f09da8ed",
   "metadata": {},
   "outputs": [],
   "source": [
    "model = Sequential()\n",
    "model.add(Dense(2))"
   ]
  },
  {
   "cell_type": "markdown",
   "id": "14e44549",
   "metadata": {},
   "source": [
    "We get the same result if we simply say:"
   ]
  },
  {
   "cell_type": "code",
   "execution_count": 5,
   "id": "325d92c3",
   "metadata": {},
   "outputs": [],
   "source": [
    "model = Sequential([Dense(2)])"
   ]
  },
  {
   "cell_type": "markdown",
   "id": "0850786b",
   "metadata": {},
   "source": [
    "Keep in mind that the dimensions of the input data must be specified in the first layer of any `Sequential` model. \n",
    "\n",
    "This can be done by using the `input_dim` argument. For higher dimensional data, this can be done using `input_shape`. "
   ]
  },
  {
   "cell_type": "markdown",
   "id": "ccd457ae",
   "metadata": {},
   "source": [
    "Let's create a multilayer perceptron model with 3 inputs, 6 neurons in the hidden layer, and 2 neurons in the output layer."
   ]
  },
  {
   "cell_type": "code",
   "execution_count": 34,
   "id": "d824404c",
   "metadata": {},
   "outputs": [],
   "source": [
    "model = Sequential()\n",
    "model.add(Dense(6, input_dim=3))\n",
    "model.add(Dense(2))"
   ]
  },
  {
   "cell_type": "markdown",
   "id": "76638f71",
   "metadata": {},
   "source": [
    "We get the same result if we simply say: "
   ]
  },
  {
   "cell_type": "code",
   "execution_count": 7,
   "id": "0710a361",
   "metadata": {},
   "outputs": [],
   "source": [
    "model = Sequential([\n",
    "    Dense(6, input_dim=3),\n",
    "    Dense(2)\n",
    "])"
   ]
  },
  {
   "cell_type": "markdown",
   "id": "7385aef6",
   "metadata": {},
   "source": [
    "We can also specify the **activation function** used for that layer. \n",
    "\n",
    "We will use the `activation` argument to specify the activation function associated with that layer. "
   ]
  },
  {
   "cell_type": "code",
   "execution_count": 20,
   "id": "51814a93",
   "metadata": {},
   "outputs": [],
   "source": [
    "model = Sequential([\n",
    "    Dense(6, input_dim=3, activation='relu'),\n",
    "    Dense(2, activation='sigmoid')\n",
    "])"
   ]
  },
  {
   "cell_type": "markdown",
   "id": "9bb7451a",
   "metadata": {},
   "source": [
    "> For more information on the `Sequential` class, head over to [TensorFlow](https://www.tensorflow.org/api_docs/python/tf/keras/Sequential). "
   ]
  },
  {
   "cell_type": "markdown",
   "id": "b8ed14f7",
   "metadata": {},
   "source": [
    "___"
   ]
  },
  {
   "cell_type": "markdown",
   "id": "04652013",
   "metadata": {},
   "source": [
    "## Compiling the Network"
   ]
  },
  {
   "cell_type": "markdown",
   "id": "99be15bb",
   "metadata": {},
   "source": [
    "Once our network is defined, it is time to compile it. **Compilation** transforms our sequence of layers into a series of matrix transformations that allows for efficient computations from our model. \n",
    "\n",
    "To compile our network, we need to pass in two arguments into the `compile` method: \n",
    "- `optimizer`: the optimization algorith our model will use\n",
    "- `loss`: the loss function our model will use"
   ]
  },
  {
   "cell_type": "markdown",
   "id": "f807c8f8",
   "metadata": {},
   "source": [
    "Let's compile our model, specifying the stochastic gradient descent (`sgd`) optimization algorithm and the mean squared error (`mean-squared-error`) loss function. "
   ]
  },
  {
   "cell_type": "code",
   "execution_count": 22,
   "id": "13c331f5",
   "metadata": {},
   "outputs": [],
   "source": [
    "model.compile(optimizer='sgd', loss='mean-squared-error')"
   ]
  },
  {
   "cell_type": "markdown",
   "id": "faf36906",
   "metadata": {},
   "source": [
    "We likely want to configure our optimizer beforehand, and then pass that in as an argument to our model compilation. "
   ]
  },
  {
   "cell_type": "markdown",
   "id": "dbd6f0ec",
   "metadata": {},
   "source": [
    "Let's create a stochastic gradient descent optimizer with a `learning_rate` of $0.08$ and `momentum` of $0.2$, and then compile our model with it. "
   ]
  },
  {
   "cell_type": "code",
   "execution_count": 26,
   "id": "0a6296c2",
   "metadata": {},
   "outputs": [],
   "source": [
    "from tensorflow.keras.optimizers import SGD\n",
    "\n",
    "optimation_algorith = SGD(learning_rate=0.08, momentum=0.2)\n",
    "model.compile(optimizer=optimation_algorith, loss='mean-squared-error')"
   ]
  },
  {
   "cell_type": "markdown",
   "id": "38f4ae51",
   "metadata": {},
   "source": [
    "We can also define metrics we'd like the model to collect while training. Keep in mind that for multiple metrics, they must be specified in an array of strings. "
   ]
  },
  {
   "cell_type": "markdown",
   "id": "82c49713",
   "metadata": {},
   "source": [
    "Let's compile our model, this time adding `accuracy` as a metric we would like to collect. "
   ]
  },
  {
   "cell_type": "code",
   "execution_count": 29,
   "id": "1b4e2727",
   "metadata": {},
   "outputs": [],
   "source": [
    "model.compile(optimizer='sgd', loss='mean-squared-error', metrics='accuracy')"
   ]
  },
  {
   "cell_type": "markdown",
   "id": "066be3e5",
   "metadata": {},
   "source": [
    "___"
   ]
  },
  {
   "cell_type": "markdown",
   "id": "c67a1dc0",
   "metadata": {},
   "source": [
    "## Training the Network"
   ]
  },
  {
   "cell_type": "markdown",
   "id": "ba8cef24",
   "metadata": {},
   "source": [
    "Once the network is compiled, it is time to train it. **Training** updates the weights of the model based on training data given to the model. As expected, the model is trained using the optimization algorithm and loss function specified when compiling the model. \n",
    "\n",
    "To train our network, we need to pass the input and output training data into the `fit` method, alongside additional arguments such as:\n",
    "- `batch_size`: the number of samples our network is exposed to before updating weights within an epoch\n",
    "- `epochs`: the number of rounds of exposures to the training data\n",
    "- `verbose`: the amount of information to be displayed on screen (0=none, 2=only loss per epoch)\n",
    "\n",
    "Running the `fit` method on our model returns a history object that provides a performance summary (which inclues loss alongside any additional metrics specified when compiling) for each epoch. "
   ]
  },
  {
   "cell_type": "markdown",
   "id": "8fc243c0",
   "metadata": {},
   "source": [
    "Let's train our model using a generic `X_train` input and `y_train` output, with a `batch_size` of 20 for 200 `epochs`, setting the `verbose` value to $0$. "
   ]
  },
  {
   "cell_type": "code",
   "execution_count": 32,
   "id": "6e2317d0",
   "metadata": {},
   "outputs": [],
   "source": [
    "# history = model.fit(X_train, y_train, batch_size=20, epochs=200, verbose=0)"
   ]
  },
  {
   "cell_type": "markdown",
   "id": "00a497cb",
   "metadata": {},
   "source": [
    "> Keep in mind that you will get an error when running the line above, as we haven't defined `X_train` and `y_train`, and so the line has been commented out. "
   ]
  },
  {
   "cell_type": "markdown",
   "id": "1eda9aab",
   "metadata": {},
   "source": [
    "___"
   ]
  },
  {
   "cell_type": "markdown",
   "id": "39bae168",
   "metadata": {},
   "source": [
    "## Testing the Network"
   ]
  },
  {
   "cell_type": "markdown",
   "id": "4c9852cb",
   "metadata": {},
   "source": [
    "Once the network is trained, it is time to test it. **Testing** evaluates the performance of our model on a set of data that was unused during training. \n",
    "\n",
    "To test our network, we need to pass the input and output testing data into the `evaluate` method, alongside additional arguments such as:\n",
    "- `verbose`: the amount of information to be displayed on screen\n",
    "\n",
    "Running the `evaluate` method on our model returns a list of evaluation metrics. "
   ]
  },
  {
   "cell_type": "markdown",
   "id": "24b27f34",
   "metadata": {},
   "source": [
    "Let's test our model using a generic `X_test` input and `y_test` output, setting the `verbose` value to $0$, making sure we also capture the `accuracy` of our model."
   ]
  },
  {
   "cell_type": "code",
   "execution_count": null,
   "id": "40c152da",
   "metadata": {},
   "outputs": [],
   "source": [
    "# loss, accuracy = model.evaluate(X_test, y_test, verbose=0)"
   ]
  },
  {
   "cell_type": "markdown",
   "id": "02f87289",
   "metadata": {},
   "source": [
    "> Keep in mind that you will get an error when running the line above, as we haven't defined `X_test` and `y_test`, and so the line has been commented out. "
   ]
  },
  {
   "cell_type": "markdown",
   "id": "b0836e53",
   "metadata": {},
   "source": [
    "___"
   ]
  },
  {
   "cell_type": "markdown",
   "id": "eb142366",
   "metadata": {},
   "source": [
    "## Predicting with the Network"
   ]
  },
  {
   "cell_type": "markdown",
   "id": "f249882e",
   "metadata": {},
   "source": [
    "Now that we've defined, compiled, trained, and tested our network, we can finally use it to make predictions. **Predicting** estimates the output associated with a set of data that was unused during training and testing. \n",
    "\n",
    "To predict using our network, we need to pass the input data into the `predict` method, alongside additional arguments such as:\n",
    "- `verbose`: the amount of information to be displayed on screen\n",
    "\n",
    "Running the `predict` method on our model returns predictions in the format provided by the output layer of the network. \n",
    "\n",
    "- For <u>regression problems</u>, the output is likely the same format as input. \n",
    "- For <u>binary classification problems</u>, the output is likely a probability that need to be rounded to a $0$ or $1$. \n",
    "- For <u>multiclass classification problems</u>, the output is likely an array of probabilities that need to be converted to a single class prediction."
   ]
  },
  {
   "cell_type": "markdown",
   "id": "afd0638e",
   "metadata": {},
   "source": [
    "Let's use our model to predict the output given a generic `X` input, setting the `verbose` value to $0$. "
   ]
  },
  {
   "cell_type": "code",
   "execution_count": null,
   "id": "8cbf4b98",
   "metadata": {},
   "outputs": [],
   "source": [
    "# predictions = model.predict(X, verbose=0)"
   ]
  },
  {
   "cell_type": "markdown",
   "id": "770fbaf9",
   "metadata": {},
   "source": [
    "For classification problems, we can use the `predict_classes` method to automatically convert our array of probabilities into integer class values. "
   ]
  },
  {
   "cell_type": "code",
   "execution_count": null,
   "id": "c4e7c1ce",
   "metadata": {},
   "outputs": [],
   "source": [
    "# predictions = model.predict_classes(X, verbose=0)"
   ]
  },
  {
   "cell_type": "markdown",
   "id": "77a6e8d3",
   "metadata": {},
   "source": [
    "> Keep in mind that you will get an error when running the lines above, as we haven't defined `X`, and so the lines have been commented out. "
   ]
  },
  {
   "cell_type": "markdown",
   "id": "e11119d3",
   "metadata": {},
   "source": [
    "___"
   ]
  },
  {
   "cell_type": "markdown",
   "id": "44ded323",
   "metadata": {},
   "source": [
    "## Functional-API"
   ]
  },
  {
   "cell_type": "markdown",
   "id": "581c9f91",
   "metadata": {},
   "source": [
    "___"
   ]
  },
  {
   "cell_type": "markdown",
   "id": "6a2e0e14",
   "metadata": {},
   "source": [
    "## Multilayer Perceptron (MLP)"
   ]
  },
  {
   "cell_type": "markdown",
   "id": "ffb91af2",
   "metadata": {},
   "source": [
    "___"
   ]
  },
  {
   "cell_type": "markdown",
   "id": "87b1849c",
   "metadata": {},
   "source": [
    "## Convolutional Neural Network (CNN)"
   ]
  },
  {
   "cell_type": "markdown",
   "id": "593a683b",
   "metadata": {},
   "source": [
    "___"
   ]
  },
  {
   "cell_type": "markdown",
   "id": "0b70891f",
   "metadata": {},
   "source": [
    "## Recurrent Neural Network (RNN)"
   ]
  },
  {
   "cell_type": "code",
   "execution_count": null,
   "id": "6cdf1724",
   "metadata": {},
   "outputs": [],
   "source": []
  },
  {
   "cell_type": "code",
   "execution_count": null,
   "id": "a21f1fd2",
   "metadata": {},
   "outputs": [],
   "source": []
  },
  {
   "cell_type": "code",
   "execution_count": 21,
   "id": "59fc96c3",
   "metadata": {
    "scrolled": true
   },
   "outputs": [
    {
     "name": "stdout",
     "output_type": "stream",
     "text": [
      "Model: \"sequential_8\"\n",
      "_________________________________________________________________\n",
      "Layer (type)                 Output Shape              Param #   \n",
      "=================================================================\n",
      "dense_11 (Dense)             (None, 6)                 24        \n",
      "_________________________________________________________________\n",
      "dense_12 (Dense)             (None, 2)                 14        \n",
      "=================================================================\n",
      "Total params: 38\n",
      "Trainable params: 38\n",
      "Non-trainable params: 0\n",
      "_________________________________________________________________\n"
     ]
    }
   ],
   "source": [
    "model.summary()"
   ]
  }
 ],
 "metadata": {
  "kernelspec": {
   "display_name": "Python 3",
   "language": "python",
   "name": "python3"
  },
  "language_info": {
   "codemirror_mode": {
    "name": "ipython",
    "version": 3
   },
   "file_extension": ".py",
   "mimetype": "text/x-python",
   "name": "python",
   "nbconvert_exporter": "python",
   "pygments_lexer": "ipython3",
   "version": "3.8.5"
  }
 },
 "nbformat": 4,
 "nbformat_minor": 5
}
